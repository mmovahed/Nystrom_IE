{
  "nbformat": 4,
  "nbformat_minor": 0,
  "metadata": {
    "colab": {
      "provenance": [],
      "authorship_tag": "ABX9TyM4BgW6dc8hCrzrW2MlVLGI",
      "include_colab_link": true
    },
    "kernelspec": {
      "name": "python3",
      "display_name": "Python 3"
    },
    "language_info": {
      "name": "python"
    }
  },
  "cells": [
    {
      "cell_type": "markdown",
      "metadata": {
        "id": "view-in-github",
        "colab_type": "text"
      },
      "source": [
        "<a href=\"https://colab.research.google.com/github/mmovahed/Nystrom_IE/blob/main/Volterra_IE.ipynb\" target=\"_parent\"><img src=\"https://colab.research.google.com/assets/colab-badge.svg\" alt=\"Open In Colab\"/></a>"
      ]
    },
    {
      "cell_type": "markdown",
      "source": [
        "$u(x)=g(x)+\\lambda\\int_{a}^{x}K(x,t)u(t)dt$"
      ],
      "metadata": {
        "id": "iG_qpo1F-8VI"
      }
    },
    {
      "cell_type": "markdown",
      "source": [
        "Example:\n",
        "\n",
        "$u(x)=\\sin(x)+\\frac{1}{2}\\int_{a}^{x}e^{(-|x-t|)}u(t)dt$\n",
        "\n",
        "on the interval : $[0,\\pi]$"
      ],
      "metadata": {
        "id": "_4PouDiqlXYa"
      }
    },
    {
      "cell_type": "code",
      "execution_count": 1,
      "metadata": {
        "colab": {
          "base_uri": "https://localhost:8080/"
        },
        "id": "r5l8xt3h3tYV",
        "outputId": "d47be184-6faa-473c-929b-bd5fa46a0391"
      },
      "outputs": [
        {
          "output_type": "stream",
          "name": "stdout",
          "text": [
            "The value of u(x) at x = 0.7853981633974483 is approximately 0.8301055564585449\n"
          ]
        }
      ],
      "source": [
        "import numpy as np\n",
        "import scipy.linalg\n",
        "\n",
        "# Define the kernel function K(x, t)\n",
        "def K(x, t):\n",
        "    return np.exp(-np.abs(x - t))  # Example kernel\n",
        "\n",
        "# Define the function g(x)\n",
        "def g(x):\n",
        "    return np.sin(x)  # Example function\n",
        "\n",
        "# Define the parameters\n",
        "a, b = 0, np.pi  # Integration limits\n",
        "lambda_ = 0.5    # Lambda parameter\n",
        "N = 100          # Number of quadrature points\n",
        "\n",
        "# Create the quadrature points and weights (using Gauss-Legendre quadrature)\n",
        "x, w = np.polynomial.legendre.leggauss(N)\n",
        "x = 0.5 * (x + 1) * (b - a) + a  # Transform the points to the interval [a, b]\n",
        "w = 0.5 * (b - a) * w            # Adjust the weights for the interval [a, b]\n",
        "\n",
        "# Construct the matrix A for the Volterra integral equation\n",
        "A = np.eye(N)\n",
        "for i in range(N):\n",
        "    for j in range(i):\n",
        "        A[i, j] = -lambda_ * w[j] * K(x[i], x[j])\n",
        "\n",
        "# Construct the vector b\n",
        "b = g(x)\n",
        "\n",
        "# Solve the linear system A * u = b to get the values of u at the quadrature points\n",
        "u = scipy.linalg.solve(A, b)\n",
        "\n",
        "# Define a function to interpolate u at any point using the quadrature points\n",
        "def u_interp(xi):\n",
        "    integral_sum = 0\n",
        "    for i in range(N):\n",
        "        if x[i] <= xi:\n",
        "            integral_sum += w[i] * K(xi, x[i]) * u[i]\n",
        "    return g(xi) + lambda_ * integral_sum\n",
        "\n",
        "# Example: evaluate the solution at a new point\n",
        "xi = np.pi / 4\n",
        "print(f\"The value of u(x) at x = {xi} is approximately {u_interp(xi)}\")"
      ]
    }
  ]
}