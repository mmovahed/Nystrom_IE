{
  "nbformat": 4,
  "nbformat_minor": 0,
  "metadata": {
    "colab": {
      "provenance": [],
      "authorship_tag": "ABX9TyOKRN1kgBl3bsArNt2DbPnc",
      "include_colab_link": true
    },
    "kernelspec": {
      "name": "python3",
      "display_name": "Python 3"
    },
    "language_info": {
      "name": "python"
    }
  },
  "cells": [
    {
      "cell_type": "markdown",
      "metadata": {
        "id": "view-in-github",
        "colab_type": "text"
      },
      "source": [
        "<a href=\"https://colab.research.google.com/github/mmovahed/Nystrom_IE/blob/main/Fredholm_IE.ipynb\" target=\"_parent\"><img src=\"https://colab.research.google.com/assets/colab-badge.svg\" alt=\"Open In Colab\"/></a>"
      ]
    },
    {
      "cell_type": "markdown",
      "source": [
        "$u(x)=g(x)+\\int_{a}^{b}K(x,t)u(t)dt$"
      ],
      "metadata": {
        "id": "iG_qpo1F-8VI"
      }
    },
    {
      "cell_type": "markdown",
      "source": [
        "Example:\n",
        "\n",
        "$u(x)=\\sin(x)+\\int_{a}^{b}e^{(-|x-t|)}u(t)dt$"
      ],
      "metadata": {
        "id": "_4PouDiqlXYa"
      }
    },
    {
      "cell_type": "code",
      "source": [
        "import numpy as np\n",
        "import scipy.linalg\n",
        "\n",
        "# Define the kernel function K(x, t)\n",
        "def K(x, t):\n",
        "    return np.exp(-np.abs(x - t))  # Example kernel\n",
        "\n",
        "# Define the function g(x)\n",
        "def g(x):\n",
        "    return np.sin(x)  # Example function\n",
        "\n",
        "# Define the parameters\n",
        "a, b = 0, np.pi  # Integration limits\n",
        "lambda_ = 0.5    # Lambda parameter\n",
        "N = 100          # Number of quadrature points\n",
        "\n",
        "# Create the quadrature points and weights (using Gauss-Legendre quadrature)\n",
        "x, w = np.polynomial.legendre.leggauss(N)\n",
        "x = 0.5 * (x + 1) * (b - a) + a  # Transform the points to the interval [a, b]\n",
        "w = 0.5 * (b - a) * w            # Adjust the weights for the interval [a, b]\n",
        "\n",
        "# Construct the matrix A and the vector b\n",
        "A = np.eye(N) - lambda_ * w * K(x[:, None], x[None, :])\n",
        "b = g(x)\n",
        "\n",
        "# Solve the linear system A * f = b to get the values of f at the quadrature points\n",
        "u = scipy.linalg.solve(A, b)\n",
        "\n",
        "# Define a function to interpolate f at any point using the quadrature points\n",
        "def u_interp(xi):\n",
        "    return g(xi) + lambda_ * np.sum(w * K(xi, x) * u)\n",
        "\n",
        "# Example: evaluate the solution at a new point\n",
        "xi = np.pi / 4\n",
        "print(f\"The value of u(x) at x = {xi} is approximately {u_interp(xi)}\")"
      ],
      "metadata": {
        "colab": {
          "base_uri": "https://localhost:8080/"
        },
        "id": "snRXESOW-A-I",
        "outputId": "55301baa-bee2-4b6b-cdc1-e04d6b0212df"
      },
      "execution_count": 1,
      "outputs": [
        {
          "output_type": "stream",
          "name": "stdout",
          "text": [
            "The value of u(x) at x = 0.7853981633974483 is approximately 2.4150977378640848\n"
          ]
        }
      ]
    }
  ]
}