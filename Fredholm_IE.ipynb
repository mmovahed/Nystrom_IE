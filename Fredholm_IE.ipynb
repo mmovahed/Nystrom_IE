{
  "nbformat": 4,
  "nbformat_minor": 0,
  "metadata": {
    "colab": {
      "provenance": [],
      "include_colab_link": true
    },
    "kernelspec": {
      "name": "python3",
      "display_name": "Python 3"
    },
    "language_info": {
      "name": "python"
    }
  },
  "cells": [
    {
      "cell_type": "markdown",
      "metadata": {
        "id": "view-in-github",
        "colab_type": "text"
      },
      "source": [
        "<a href=\"https://colab.research.google.com/github/mmovahed/Nystrom_IE/blob/main/Fredholm_IE.ipynb\" target=\"_parent\"><img src=\"https://colab.research.google.com/assets/colab-badge.svg\" alt=\"Open In Colab\"/></a>"
      ]
    },
    {
      "cell_type": "markdown",
      "source": [
        "$u(x)=g(x)+\\lambda\\int_{a}^{b}K(x,t)u(t)dt$"
      ],
      "metadata": {
        "id": "iG_qpo1F-8VI"
      }
    },
    {
      "cell_type": "markdown",
      "source": [
        "Example:\n",
        "\n",
        "$u(x)=e^x-x+x\\int_{0}^{1}tu(t)dt$\n",
        "\n",
        "Exact solution:\n",
        "\n",
        "$u(x)=e^x$\n"
      ],
      "metadata": {
        "id": "_4PouDiqlXYa"
      }
    },
    {
      "cell_type": "code",
      "source": [
        "import numpy as np\n",
        "import scipy.linalg\n",
        "\n",
        "# Define the kernel function K(x, t)\n",
        "def K(x, t):\n",
        "    return x*t  # Example kernel\n",
        "\n",
        "# Define the function g(x)\n",
        "def g(x):\n",
        "    return np.exp(x) - x  # Example function\n",
        "\n",
        "def Exact(x):\n",
        "    return np.exp(x)\n",
        "# Define the parameters\n",
        "a, b = 0, 1  # Integration limits\n",
        "lambda_ = 1    # Lambda parameter\n",
        "N = 100          # Number of quadrature points\n",
        "\n",
        "# Create the quadrature points and weights (using Gauss-Legendre quadrature)\n",
        "x, w = np.polynomial.legendre.leggauss(N)\n",
        "x = 0.5 * (x + 1) * (b - a) + a  # Transform the points to the interval [a, b]\n",
        "w = 0.5 * (b - a) * w            # Adjust the weights for the interval [a, b]\n",
        "\n",
        "# Construct the matrix A and the vector b\n",
        "A = np.eye(N) - lambda_ * w * K(x[:, None], x[None, :])\n",
        "b = g(x)\n",
        "\n",
        "# Solve the linear system A * f = b to get the values of f at the quadrature points\n",
        "u = scipy.linalg.solve(A, b)\n",
        "\n",
        "# Define a function to interpolate f at any point using the quadrature points\n",
        "def u_interp(xi):\n",
        "    return g(xi) + lambda_ * np.sum(w * K(xi, x) * u)\n",
        "\n",
        "# Example: evaluate the solution at a new point\n",
        "xi = np.pi / 4\n",
        "app = u_interp(xi)\n",
        "ex = Exact(xi)\n",
        "print(f\"The value of u(x) at x = {xi} is approximately {app}\")\n",
        "print(f\"The value of u(x) at x = {xi} is exaclty {ex}\")\n",
        "print(f\"Error is {np.abs(ex-app)}\")"
      ],
      "metadata": {
        "colab": {
          "base_uri": "https://localhost:8080/"
        },
        "id": "snRXESOW-A-I",
        "outputId": "f4c0560a-e9ba-48c7-b2a6-31ba4b6da481"
      },
      "execution_count": 1,
      "outputs": [
        {
          "output_type": "stream",
          "name": "stdout",
          "text": [
            "The value of u(x) at x = 0.7853981633974483 is approximately 2.193280050738013\n",
            "The value of u(x) at x = 0.7853981633974483 is exaclty 2.1932800507380152\n",
            "Error is 2.220446049250313e-15\n"
          ]
        }
      ]
    }
  ]
}